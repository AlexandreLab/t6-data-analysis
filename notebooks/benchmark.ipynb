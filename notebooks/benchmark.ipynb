{
 "cells": [
  {
   "cell_type": "code",
   "execution_count": 47,
   "metadata": {},
   "outputs": [
    {
     "name": "stdout",
     "output_type": "stream",
     "text": [
      "The autoreload extension is already loaded. To reload it, use:\n",
      "  %reload_ext autoreload\n"
     ]
    }
   ],
   "source": [
    "%load_ext autoreload\n",
    "%autoreload 2"
   ]
  },
  {
   "cell_type": "code",
   "execution_count": 48,
   "metadata": {},
   "outputs": [],
   "source": [
    "import sys\n",
    "sys.path.insert(0, '..//src/')\n",
    "import pandas as pd\n",
    "from project_settings import settings\n",
    "from pathlib import Path"
   ]
  },
  {
   "cell_type": "code",
   "execution_count": 49,
   "metadata": {},
   "outputs": [],
   "source": [
    "elec_benchmark_data = pd.read_excel(settings.PATH_BENCHMARK_DATA, sheet_name=settings.ELECTRICITY_BENCHMARK_SHEET, skiprows=4)\n",
    "elec_benchmark_data = elec_benchmark_data.loc[:11, ['Building use','2021']]\n",
    "elec_benchmark_data = elec_benchmark_data.set_index('Building use', drop=True)\n",
    "elec_benchmark_data.columns = ['Electricity benchmark (kWh/m2)']"
   ]
  },
  {
   "cell_type": "code",
   "execution_count": 50,
   "metadata": {},
   "outputs": [],
   "source": [
    "gas_benchmark_data = pd.read_excel(settings.PATH_BENCHMARK_DATA, sheet_name=settings.GAS_BENCHMARK_SHEET, skiprows=4)\n",
    "gas_benchmark_data = gas_benchmark_data.loc[:11, ['Building use','2021']]\n",
    "gas_benchmark_data = gas_benchmark_data.set_index('Building use', drop=True)\n",
    "gas_benchmark_data.columns = ['Gas benchmark (kWh/m2)']"
   ]
  },
  {
   "cell_type": "code",
   "execution_count": 51,
   "metadata": {},
   "outputs": [],
   "source": [
    "benchmark_data = pd.concat([elec_benchmark_data, gas_benchmark_data], axis=1)\n",
    "benchmark_data.to_csv(settings.PATH_SAVE_DATA/settings.BENCHMARK_FILENAME)"
   ]
  }
 ],
 "metadata": {
  "kernelspec": {
   "display_name": ".venv",
   "language": "python",
   "name": "python3"
  },
  "language_info": {
   "codemirror_mode": {
    "name": "ipython",
    "version": 3
   },
   "file_extension": ".py",
   "mimetype": "text/x-python",
   "name": "python",
   "nbconvert_exporter": "python",
   "pygments_lexer": "ipython3",
   "version": "3.12.1"
  }
 },
 "nbformat": 4,
 "nbformat_minor": 2
}
